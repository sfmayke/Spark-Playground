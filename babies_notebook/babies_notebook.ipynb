{
 "cells": [
  {
   "cell_type": "code",
   "execution_count": 72,
   "id": "5f3907ee-11ed-408b-9eb0-a28fe412fd9d",
   "metadata": {},
   "outputs": [],
   "source": [
    "from pyspark.sql import SparkSession\n",
    "from pyspark.sql.types import StringType, IntegerType, ShortType, CharType\n",
    "from pyspark.sql.functions import col, desc, max_by, min_by\n",
    "\n",
    "spark = SparkSession.builder.master(\"local\").appName(\"Babies Notebook\").getOrCreate()"
   ]
  },
  {
   "cell_type": "code",
   "execution_count": 11,
   "id": "012e6529-fed9-47a3-938a-1bcfa9118cb7",
   "metadata": {},
   "outputs": [
    {
     "data": {
      "text/plain": [
       "DataFrame[Year: string, First Name: string, County: string, Sex: string, Count: string]"
      ]
     },
     "execution_count": 11,
     "metadata": {},
     "output_type": "execute_result"
    }
   ],
   "source": [
    "# LOAD DATA SET TO SPARK\n",
    "\n",
    "df = spark.read\\\n",
    "    .option(\"header\", True)\\\n",
    "    .csv('./Baby_Names__Beginning_2007.csv')"
   ]
  },
  {
   "cell_type": "code",
   "execution_count": 7,
   "id": "b8135a31-1a3b-47e3-9b27-00f677a3f5b8",
   "metadata": {},
   "outputs": [
    {
     "name": "stdout",
     "output_type": "stream",
     "text": [
      "root\n",
      " |-- Year: integer (nullable = true)\n",
      " |-- First Name: string (nullable = true)\n",
      " |-- County: string (nullable = true)\n",
      " |-- Sex: string (nullable = true)\n",
      " |-- Count: integer (nullable = true)\n",
      "\n",
      "+----+----------+------+---+-----+\n",
      "|Year|First Name|County|Sex|Count|\n",
      "+----+----------+------+---+-----+\n",
      "|2021|    OLIVIA|Albany|  F|   16|\n",
      "|2021|    AMELIA|Albany|  F|   16|\n",
      "|2021|    SOPHIA|Albany|  F|   13|\n",
      "|2021|       AVA|Albany|  F|   13|\n",
      "|2021|      EMMA|Albany|  F|   12|\n",
      "|2021|  PENELOPE|Albany|  F|   11|\n",
      "|2021|   MADISON|Albany|  F|   10|\n",
      "|2021|   ABIGAIL|Albany|  F|   10|\n",
      "|2021|    HARPER|Albany|  F|   10|\n",
      "|2021|      ISLA|Albany|  F|    9|\n",
      "|2021| CHARLOTTE|Albany|  F|    8|\n",
      "|2021|  ISABELLA|Albany|  F|    8|\n",
      "|2021|    GIANNA|Albany|  F|    8|\n",
      "|2021|   ELEANOR|Albany|  F|    8|\n",
      "|2021|   LILLIAN|Albany|  F|    8|\n",
      "|2021|  MADELINE|Albany|  F|    8|\n",
      "|2021|    EVELYN|Albany|  F|    7|\n",
      "|2021|     RILEY|Albany|  F|    7|\n",
      "|2021|    HAILEY|Albany|  F|    7|\n",
      "|2021|    EVERLY|Albany|  F|    7|\n",
      "+----+----------+------+---+-----+\n",
      "only showing top 20 rows\n",
      "\n"
     ]
    }
   ],
   "source": [
    "# SHOW ORIGINAL SCHEMA AND DATA TYPES\n",
    "\n",
    "df.printSchema()\n",
    "df.show()"
   ]
  },
  {
   "cell_type": "code",
   "execution_count": 24,
   "id": "1aa6c7b1-bf29-48ab-af71-18f36d6aa86d",
   "metadata": {},
   "outputs": [
    {
     "name": "stdout",
     "output_type": "stream",
     "text": [
      "+----+----------+------+---+-----+\n",
      "|year|first_name|county|sex|count|\n",
      "+----+----------+------+---+-----+\n",
      "|2021|    OLIVIA|Albany|  F|   16|\n",
      "|2021|    AMELIA|Albany|  F|   16|\n",
      "|2021|    SOPHIA|Albany|  F|   13|\n",
      "|2021|       AVA|Albany|  F|   13|\n",
      "|2021|      EMMA|Albany|  F|   12|\n",
      "|2021|  PENELOPE|Albany|  F|   11|\n",
      "|2021|   MADISON|Albany|  F|   10|\n",
      "|2021|   ABIGAIL|Albany|  F|   10|\n",
      "|2021|    HARPER|Albany|  F|   10|\n",
      "|2021|      ISLA|Albany|  F|    9|\n",
      "|2021| CHARLOTTE|Albany|  F|    8|\n",
      "|2021|  ISABELLA|Albany|  F|    8|\n",
      "|2021|    GIANNA|Albany|  F|    8|\n",
      "|2021|   ELEANOR|Albany|  F|    8|\n",
      "|2021|   LILLIAN|Albany|  F|    8|\n",
      "|2021|  MADELINE|Albany|  F|    8|\n",
      "|2021|    EVELYN|Albany|  F|    7|\n",
      "|2021|     RILEY|Albany|  F|    7|\n",
      "|2021|    HAILEY|Albany|  F|    7|\n",
      "|2021|    EVERLY|Albany|  F|    7|\n",
      "+----+----------+------+---+-----+\n",
      "only showing top 20 rows\n",
      "\n"
     ]
    }
   ],
   "source": [
    "# NORMALIZED COLUMNS NAMES\n",
    "\n",
    "normalized_columns_names = [col.lower().replace(' ', '_') for col in df.columns]\n",
    "\n",
    "df = df.toDF(*normalized_columns_names)\n",
    "df.show()"
   ]
  },
  {
   "cell_type": "code",
   "execution_count": 26,
   "id": "e4460834-de1a-4722-9767-155c8ef0b129",
   "metadata": {},
   "outputs": [
    {
     "name": "stdout",
     "output_type": "stream",
     "text": [
      "+----+----------+------+---+-----+\n",
      "|year|first_name|county|sex|count|\n",
      "+----+----------+------+---+-----+\n",
      "|2021|    OLIVIA|Albany|  F|   16|\n",
      "|2021|    AMELIA|Albany|  F|   16|\n",
      "|2021|    SOPHIA|Albany|  F|   13|\n",
      "|2021|       AVA|Albany|  F|   13|\n",
      "|2021|      EMMA|Albany|  F|   12|\n",
      "|2021|  PENELOPE|Albany|  F|   11|\n",
      "|2021|   MADISON|Albany|  F|   10|\n",
      "|2021|   ABIGAIL|Albany|  F|   10|\n",
      "|2021|    HARPER|Albany|  F|   10|\n",
      "|2021|      ISLA|Albany|  F|    9|\n",
      "|2021| CHARLOTTE|Albany|  F|    8|\n",
      "|2021|  ISABELLA|Albany|  F|    8|\n",
      "|2021|    GIANNA|Albany|  F|    8|\n",
      "|2021|   ELEANOR|Albany|  F|    8|\n",
      "|2021|   LILLIAN|Albany|  F|    8|\n",
      "|2021|  MADELINE|Albany|  F|    8|\n",
      "|2021|    EVELYN|Albany|  F|    7|\n",
      "|2021|     RILEY|Albany|  F|    7|\n",
      "|2021|    HAILEY|Albany|  F|    7|\n",
      "|2021|    EVERLY|Albany|  F|    7|\n",
      "+----+----------+------+---+-----+\n",
      "only showing top 20 rows\n",
      "\n"
     ]
    }
   ],
   "source": [
    "# CAST CORRECT COLUMN TYPES\n",
    "\n",
    "schema_map = {\n",
    "    'year': ShortType(),\n",
    "    'first_name': StringType(),\n",
    "    'county': StringType(),\n",
    "    'sex': CharType(1),\n",
    "    'count': IntegerType()\n",
    "}\n",
    "\n",
    "df_updated_schema = df.select([col(column_schema[0]).cast(schema_map.get(column_schema[0], column_schema[1])) for column_schema in df.dtypes])\n",
    "df_updated_schema.show()"
   ]
  },
  {
   "cell_type": "code",
   "execution_count": 49,
   "id": "b88f9f9f-d4f5-40ae-94a5-81904608e0a1",
   "metadata": {},
   "outputs": [
    {
     "name": "stdout",
     "output_type": "stream",
     "text": [
      "+----------+-----+\n",
      "|first_name|total|\n",
      "+----------+-----+\n",
      "|    OLIVIA|16285|\n",
      "|    SOPHIA|16221|\n",
      "|  ISABELLA|16185|\n",
      "|      EMMA|15721|\n",
      "|       AVA|13009|\n",
      "+----------+-----+\n",
      "\n"
     ]
    }
   ],
   "source": [
    "# TOP 5 FEMALE NAMES\n",
    "\n",
    "df_updated_schema.where(\"sex = 'F'\").groupBy(\"first_name\")\\\n",
    "    .agg({'count': 'sum'})\\\n",
    "    .withColumnRenamed(\"sum(count)\", 'total')\\\n",
    "    .sort(desc('total'))\\\n",
    "    .limit(5).show()"
   ]
  },
  {
   "cell_type": "code",
   "execution_count": 48,
   "id": "d14f5b30-c95b-4537-abe7-805fa75258d9",
   "metadata": {},
   "outputs": [
    {
     "name": "stdout",
     "output_type": "stream",
     "text": [
      "+----------+-----+\n",
      "|first_name|total|\n",
      "+----------+-----+\n",
      "|   MICHAEL|17760|\n",
      "|     JACOB|16846|\n",
      "|      LIAM|15840|\n",
      "|    JOSEPH|15829|\n",
      "|   MATTHEW|15649|\n",
      "+----------+-----+\n",
      "\n"
     ]
    }
   ],
   "source": [
    "# TOP 5 MALE NAMES\n",
    "\n",
    "df_updated_schema.where(\"sex = 'M'\").groupBy(\"first_name\")\\\n",
    "    .agg({'count': 'sum'})\\\n",
    "    .withColumnRenamed(\"sum(count)\", 'total')\\\n",
    "    .sort(desc('total'))\\\n",
    "    .limit(5).show()"
   ]
  },
  {
   "cell_type": "code",
   "execution_count": 70,
   "id": "e44cc30d-09a3-484d-8be2-f4454bb6cf87",
   "metadata": {},
   "outputs": [
    {
     "name": "stdout",
     "output_type": "stream",
     "text": [
      "+----+------+\n",
      "|year|  name|\n",
      "+----+------+\n",
      "|2007|DANIEL|\n",
      "|2008|JAYDEN|\n",
      "|2009| DAVID|\n",
      "|2010| DAVID|\n",
      "|2011|JAYDEN|\n",
      "|2012| DAVID|\n",
      "|2013| DAVID|\n",
      "|2014| DAVID|\n",
      "|2015| ETHAN|\n",
      "|2016| DAVID|\n",
      "|2017| DAVID|\n",
      "|2018| DAVID|\n",
      "|2019| DAVID|\n",
      "|2020|  LIAM|\n",
      "|2021|  LIAM|\n",
      "+----+------+\n",
      "\n"
     ]
    }
   ],
   "source": [
    "# MOST COMMON NAME BY YEAR\n",
    "\n",
    "df_updated_schema.groupby(\"year\")\\\n",
    "    .agg(max_by(\"first_name\", \"count\").alias('name'))\\\n",
    "    .show()"
   ]
  },
  {
   "cell_type": "code",
   "execution_count": 73,
   "id": "585ebaf8-fc09-4181-ab67-de0ca9b4b9ad",
   "metadata": {},
   "outputs": [
    {
     "name": "stdout",
     "output_type": "stream",
     "text": [
      "+----+--------+\n",
      "|year|    name|\n",
      "+----+--------+\n",
      "|2007| AALIYAH|\n",
      "|2008|    ZOEY|\n",
      "|2009|   MAYER|\n",
      "|2010|  JOHANN|\n",
      "|2011| WILLIAM|\n",
      "|2012|  ROBERT|\n",
      "|2013|   KATIE|\n",
      "|2014| JACKSON|\n",
      "|2015|BENJAMIN|\n",
      "|2016|  LANDON|\n",
      "|2017| LINCOLN|\n",
      "|2018|  HARPER|\n",
      "|2019|   BYRON|\n",
      "|2020|   RENZO|\n",
      "|2021|  OLIVER|\n",
      "+----+--------+\n",
      "\n"
     ]
    }
   ],
   "source": [
    "# LEAST COMMON NAME BY YEAR\n",
    "\n",
    "df_updated_schema.groupby(\"year\")\\\n",
    "    .agg(min_by(\"first_name\", \"count\").alias('name'))\\\n",
    "    .show()"
   ]
  },
  {
   "cell_type": "code",
   "execution_count": null,
   "id": "63877da9-f14b-4696-9941-9b1e93d114a5",
   "metadata": {},
   "outputs": [],
   "source": []
  }
 ],
 "metadata": {
  "kernelspec": {
   "display_name": "Python 3 (ipykernel)",
   "language": "python",
   "name": "python3"
  },
  "language_info": {
   "codemirror_mode": {
    "name": "ipython",
    "version": 3
   },
   "file_extension": ".py",
   "mimetype": "text/x-python",
   "name": "python",
   "nbconvert_exporter": "python",
   "pygments_lexer": "ipython3",
   "version": "3.12.9"
  }
 },
 "nbformat": 4,
 "nbformat_minor": 5
}
