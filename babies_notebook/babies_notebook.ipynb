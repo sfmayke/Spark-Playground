{
 "cells": [
  {
   "cell_type": "code",
   "execution_count": 1,
   "id": "5f3907ee-11ed-408b-9eb0-a28fe412fd9d",
   "metadata": {},
   "outputs": [],
   "source": [
    "from pyspark.sql import SparkSession\n",
    "\n",
    "spark = SparkSession.builder.getOrCreate()"
   ]
  },
  {
   "cell_type": "code",
   "execution_count": 26,
   "id": "012e6529-fed9-47a3-938a-1bcfa9118cb7",
   "metadata": {},
   "outputs": [
    {
     "data": {
      "text/plain": [
       "DataFrame[Year: string, First Name: string, County: string, Sex: string, Count: string]"
      ]
     },
     "execution_count": 26,
     "metadata": {},
     "output_type": "execute_result"
    }
   ],
   "source": [
    "df = spark.read.option(\"header\", True).csv('./Baby_Names__Beginning_2007.csv')\n",
    "df"
   ]
  },
  {
   "cell_type": "code",
   "execution_count": 27,
   "id": "b8135a31-1a3b-47e3-9b27-00f677a3f5b8",
   "metadata": {},
   "outputs": [
    {
     "name": "stdout",
     "output_type": "stream",
     "text": [
      "root\n",
      " |-- Year: string (nullable = true)\n",
      " |-- First Name: string (nullable = true)\n",
      " |-- County: string (nullable = true)\n",
      " |-- Sex: string (nullable = true)\n",
      " |-- Count: string (nullable = true)\n",
      "\n"
     ]
    }
   ],
   "source": [
    "df.printSchema()"
   ]
  },
  {
   "cell_type": "code",
   "execution_count": 28,
   "id": "f0b87d6a-7fb3-4588-8b65-43e2718787df",
   "metadata": {},
   "outputs": [
    {
     "name": "stdout",
     "output_type": "stream",
     "text": [
      "+----+----------+------+---+-----+\n",
      "|Year|First Name|County|Sex|Count|\n",
      "+----+----------+------+---+-----+\n",
      "|2021|    OLIVIA|Albany|  F|   16|\n",
      "|2021|    AMELIA|Albany|  F|   16|\n",
      "|2021|    SOPHIA|Albany|  F|   13|\n",
      "|2021|       AVA|Albany|  F|   13|\n",
      "|2021|      EMMA|Albany|  F|   12|\n",
      "|2021|  PENELOPE|Albany|  F|   11|\n",
      "|2021|   MADISON|Albany|  F|   10|\n",
      "|2021|   ABIGAIL|Albany|  F|   10|\n",
      "|2021|    HARPER|Albany|  F|   10|\n",
      "|2021|      ISLA|Albany|  F|    9|\n",
      "|2021| CHARLOTTE|Albany|  F|    8|\n",
      "|2021|  ISABELLA|Albany|  F|    8|\n",
      "|2021|    GIANNA|Albany|  F|    8|\n",
      "|2021|   ELEANOR|Albany|  F|    8|\n",
      "|2021|   LILLIAN|Albany|  F|    8|\n",
      "|2021|  MADELINE|Albany|  F|    8|\n",
      "|2021|    EVELYN|Albany|  F|    7|\n",
      "|2021|     RILEY|Albany|  F|    7|\n",
      "|2021|    HAILEY|Albany|  F|    7|\n",
      "|2021|    EVERLY|Albany|  F|    7|\n",
      "+----+----------+------+---+-----+\n",
      "only showing top 20 rows\n",
      "\n"
     ]
    }
   ],
   "source": [
    "df.show()"
   ]
  },
  {
   "cell_type": "code",
   "execution_count": 32,
   "id": "1aa6c7b1-bf29-48ab-af71-18f36d6aa86d",
   "metadata": {},
   "outputs": [
    {
     "data": {
      "text/plain": [
       "['year', 'first_name', 'county', 'sex', 'count']"
      ]
     },
     "execution_count": 32,
     "metadata": {},
     "output_type": "execute_result"
    }
   ],
   "source": [
    "normalized_columns_names = [col.lower().replace(' ', '_') for col in df.columns]\n",
    "normalized_columns_names"
   ]
  },
  {
   "cell_type": "code",
   "execution_count": 34,
   "id": "e4460834-de1a-4722-9767-155c8ef0b129",
   "metadata": {},
   "outputs": [
    {
     "name": "stdout",
     "output_type": "stream",
     "text": [
      "+----+----------+------+---+-----+\n",
      "|year|first_name|county|sex|count|\n",
      "+----+----------+------+---+-----+\n",
      "|2021|    OLIVIA|Albany|  F|   16|\n",
      "|2021|    AMELIA|Albany|  F|   16|\n",
      "|2021|    SOPHIA|Albany|  F|   13|\n",
      "|2021|       AVA|Albany|  F|   13|\n",
      "|2021|      EMMA|Albany|  F|   12|\n",
      "|2021|  PENELOPE|Albany|  F|   11|\n",
      "|2021|   MADISON|Albany|  F|   10|\n",
      "|2021|   ABIGAIL|Albany|  F|   10|\n",
      "|2021|    HARPER|Albany|  F|   10|\n",
      "|2021|      ISLA|Albany|  F|    9|\n",
      "|2021| CHARLOTTE|Albany|  F|    8|\n",
      "|2021|  ISABELLA|Albany|  F|    8|\n",
      "|2021|    GIANNA|Albany|  F|    8|\n",
      "|2021|   ELEANOR|Albany|  F|    8|\n",
      "|2021|   LILLIAN|Albany|  F|    8|\n",
      "|2021|  MADELINE|Albany|  F|    8|\n",
      "|2021|    EVELYN|Albany|  F|    7|\n",
      "|2021|     RILEY|Albany|  F|    7|\n",
      "|2021|    HAILEY|Albany|  F|    7|\n",
      "|2021|    EVERLY|Albany|  F|    7|\n",
      "+----+----------+------+---+-----+\n",
      "only showing top 20 rows\n",
      "\n"
     ]
    }
   ],
   "source": [
    "df = df.toDF(*normalized_columns_names)\n",
    "df.show()"
   ]
  },
  {
   "cell_type": "code",
   "execution_count": null,
   "id": "b88f9f9f-d4f5-40ae-94a5-81904608e0a1",
   "metadata": {},
   "outputs": [],
   "source": []
  }
 ],
 "metadata": {
  "kernelspec": {
   "display_name": "Python 3 (ipykernel)",
   "language": "python",
   "name": "python3"
  },
  "language_info": {
   "codemirror_mode": {
    "name": "ipython",
    "version": 3
   },
   "file_extension": ".py",
   "mimetype": "text/x-python",
   "name": "python",
   "nbconvert_exporter": "python",
   "pygments_lexer": "ipython3",
   "version": "3.12.9"
  }
 },
 "nbformat": 4,
 "nbformat_minor": 5
}
